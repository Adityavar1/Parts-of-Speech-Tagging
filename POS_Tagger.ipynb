{
  "nbformat": 4,
  "nbformat_minor": 0,
  "metadata": {
    "colab": {
      "provenance": []
    },
    "kernelspec": {
      "name": "python3",
      "display_name": "Python 3"
    },
    "language_info": {
      "name": "python"
    }
  },
  "cells": [
    {
      "cell_type": "markdown",
      "metadata": {
        "id": "4u5OHPFg61oa"
      },
      "source": [
        "### Hidden Markov Model\n"
      ]
    },
    {
      "cell_type": "code",
      "metadata": {
        "id": "7koBx3Ky5azR"
      },
      "source": [
        "class HMM:\n",
        "    def __init__(self, tagset):\n",
        "        self.k=0.0001\n",
        "        self.tagset = tagset\n",
        "\n",
        "    def train(self, sents):\n",
        "        self.emit = {}\n",
        "        self.trans = {}\n",
        "        self.freq = {}\n",
        "        for sent in sents:\n",
        "            prev_tag='^'\n",
        "            for ind, word in enumerate(sent):\n",
        "                word_tag = (word[0].lower(), word[1])\n",
        "                bigram = (prev_tag, word[1])\n",
        "                self.emit[word_tag] = self.emit.get(word_tag, 0) + 1\n",
        "                self.freq[word[1]] = self.freq.get(word[1], 0) + 1\n",
        "                if ind != 0:\n",
        "                    self.trans[bigram] = self.trans.get(bigram, 0) + 1\n",
        "                    prev_tag = word[1]\n",
        "        for tag in self.tagset:\n",
        "            self.freq[tag] = self.freq.get(tag, 0)\n",
        "\n",
        "\n",
        "    def laplace_trans(self, bigram):\n",
        "        return (self.trans.get(bigram, 0)+self.k)/(self.freq[bigram[0]]+len(self.tagset)*self.k)\n",
        "\n",
        "\n",
        "    def laplace_emit(self, word_tag):\n",
        "        return (self.emit.get(word_tag, 0)+self.k)/(self.freq[word_tag[1]]+len(self.tagset)*self.k)\n",
        "\n",
        "\n",
        "    def pos_tag(self, sent):\n",
        "        dp = {}\n",
        "        back = {}\n",
        "        for ind, word in enumerate(sent):\n",
        "            word = word.lower()\n",
        "            if ind == 0:\n",
        "                for tag in self.tagset:\n",
        "                    word_tag = (word, tag)\n",
        "                    dp[(ind, tag)] = self.laplace_emit(word_tag)\n",
        "                continue\n",
        "            for tag in self.tagset:\n",
        "                dp[(ind, tag)] = -1\n",
        "                for prev_tag in self.tagset:\n",
        "                    bigram = (prev_tag, tag)\n",
        "                    word_tag = (word, tag)\n",
        "                    prob = dp[(ind-1, prev_tag)]*self.laplace_trans(bigram)*self.laplace_emit(word_tag)\n",
        "                    if dp[(ind, tag)] < prob:\n",
        "                        dp[(ind, tag)] = prob\n",
        "                        back[(ind, tag)] = prev_tag\n",
        "        tags = []\n",
        "        max_prob = -1\n",
        "        for tag in self.tagset:\n",
        "            if max_prob < dp[len(sent)-1, tag]:\n",
        "                max_prob = dp[len(sent)-1, tag]\n",
        "                tags = [tag]\n",
        "\n",
        "        for ind in range(len(sent)-1, 0, -1):\n",
        "            tags.append(back[(ind, tags[-1])])\n",
        "        tags.reverse()\n",
        "        return tags"
      ],
      "execution_count": null,
      "outputs": []
    },
    {
      "cell_type": "markdown",
      "metadata": {
        "id": "kX626wqFDvvF"
      },
      "source": [
        "### Data\n",
        "\n",
        "Dataset used is Brown Corpus from nltk library"
      ]
    },
    {
      "cell_type": "code",
      "metadata": {
        "id": "neVTTSjF7JHN",
        "colab": {
          "base_uri": "https://localhost:8080/"
        },
        "outputId": "ba4d91fb-4294-4061-bc99-7676f6d61048"
      },
      "source": [
        "import nltk\n",
        "\n",
        "CORPUS_NAME = 'brown'\n",
        "nltk.download(CORPUS_NAME)\n",
        "nltk.download('universal_tagset')\n",
        "CORPUS = nltk.corpus.brown\n",
        "UNIVERSAL_TAGS = (\"VERB\",\"NOUN\",\"PRON\",\"ADJ\",\"ADV\",\"ADP\",\"CONJ\",\"DET\",\"NUM\",\"PRT\",\"X\",\".\")\n",
        "\n",
        "sents = CORPUS.tagged_sents(tagset='universal')\n",
        "print(len(sents))"
      ],
      "execution_count": null,
      "outputs": [
        {
          "output_type": "stream",
          "text": [
            "[nltk_data] Downloading package brown to /root/nltk_data...\n",
            "[nltk_data]   Unzipping corpora/brown.zip.\n",
            "[nltk_data] Downloading package universal_tagset to /root/nltk_data...\n",
            "[nltk_data]   Unzipping taggers/universal_tagset.zip.\n",
            "57340\n"
          ],
          "name": "stdout"
        }
      ]
    },
    {
      "cell_type": "markdown",
      "metadata": {
        "id": "BPbvqJCNEliz"
      },
      "source": [
        "### Testing model - k fold cross validation\n"
      ]
    },
    {
      "cell_type": "markdown",
      "metadata": {
        "id": "4P1NToFYGf8a"
      },
      "source": []
    },
    {
      "cell_type": "code",
      "metadata": {
        "id": "5P_y554_ERGF"
      },
      "source": [
        "def test(model, test_set):\n",
        "    confusion_double_dict = {x:{y:0 for y in UNIVERSAL_TAGS} for x in UNIVERSAL_TAGS}\n",
        "    for sent in test_set:\n",
        "        obtained_tags = model.pos_tag([word_tag[0] for word_tag in sent])\n",
        "        true_tags = [word_tag[1] for word_tag in sent]\n",
        "        for i in range(len(sent)):\n",
        "            confusion_double_dict[true_tags[i]][obtained_tags[i]]+=1\n",
        "    return confusion_double_dict"
      ],
      "execution_count": null,
      "outputs": []
    },
    {
      "cell_type": "code",
      "metadata": {
        "id": "Op-RG3qFf4zH",
        "colab": {
          "base_uri": "https://localhost:8080/"
        },
        "outputId": "2ecadfb7-47c9-4e75-9266-d55396c75356"
      },
      "source": [
        "#import random\n",
        "\n",
        "def k_fold_cross_validate(sents, folds = 5):\n",
        "    #random.shuffle(sents)\n",
        "    print(f'Started {folds} fold validation')\n",
        "    step = len(sents)//folds\n",
        "    l,r,summary,model = 0,step,[],None\n",
        "    for i in range(folds):\n",
        "        print(f'\\nIn fold {i+1} :')\n",
        "        model = HMM(UNIVERSAL_TAGS)\n",
        "        train_set = sents[:l]+sents[r:]\n",
        "        test_set = sents[l:r]\n",
        "        print(f'Started training')\n",
        "        model.train(train_set)\n",
        "        print(f'Training done!')\n",
        "        confusion_dd = test(model, test_set)\n",
        "        print('Computed confusion matrix sucessfully!\\n')\n",
        "        summary.append(confusion_dd)\n",
        "        l += step\n",
        "        r += step\n",
        "    return summary,model\n",
        "\n",
        "summary,model = k_fold_cross_validate(sents)\n",
        "\n",
        "# test_sent = \"My name is Mr.X . I am a student from CSE Department .\"\n",
        "# print(test_sent,\"\\n\",\" \".join(model.pos_tag(test_sent.split())))"
      ],
      "execution_count": null,
      "outputs": [
        {
          "output_type": "stream",
          "text": [
            "Started 5 fold validation\n",
            "\n",
            "In fold 1 :\n",
            "Started training\n",
            "Training done!\n",
            "Computed confusion matrix sucessfully!\n",
            "\n",
            "\n",
            "In fold 2 :\n",
            "Started training\n",
            "Training done!\n",
            "Computed confusion matrix sucessfully!\n",
            "\n",
            "\n",
            "In fold 3 :\n",
            "Started training\n",
            "Training done!\n",
            "Computed confusion matrix sucessfully!\n",
            "\n",
            "\n",
            "In fold 4 :\n",
            "Started training\n",
            "Training done!\n",
            "Computed confusion matrix sucessfully!\n",
            "\n",
            "\n",
            "In fold 5 :\n",
            "Started training\n",
            "Training done!\n",
            "Computed confusion matrix sucessfully!\n",
            "\n"
          ],
          "name": "stdout"
        }
      ]
    },
    {
      "cell_type": "markdown",
      "metadata": {
        "id": "w4ZPD-MsJ6PG"
      },
      "source": [
        "### Summary of Results"
      ]
    },
    {
      "cell_type": "code",
      "metadata": {
        "colab": {
          "base_uri": "https://localhost:8080/",
          "height": 768
        },
        "id": "wTLw3N-DJ9Lv",
        "outputId": "0564a41e-1e87-4f58-a337-d2c37bb0730b"
      },
      "source": [
        "%matplotlib inline\n",
        "import matplotlib.pyplot as plt\n",
        "\n",
        "def calculate_results(conf_dd): # summary is a confusion double dictionary\n",
        "    total_fpos = 0\n",
        "    total_tpos = 0\n",
        "    total_fnegs = 0\n",
        "    total_obvs = 0\n",
        "    tpos = {}\n",
        "    fpos = {}\n",
        "    fneg = {}\n",
        "    for true_tag,row in conf_dd.items(): # x is true tag, z is obtained tag\n",
        "        for obtained_tag,count in row.items():\n",
        "            total_obvs += count\n",
        "            if true_tag == obtained_tag:\n",
        "                total_tpos += count\n",
        "                tpos[true_tag] = count\n",
        "            else:\n",
        "                total_fnegs+=count\n",
        "                total_fpos +=count\n",
        "                fneg[true_tag] = fneg.get(true_tag, 0) + count\n",
        "                fpos[obtained_tag] = fpos.get(obtained_tag, 0) + count\n",
        "    precision,recall,f1 = {},{},{}\n",
        "    #print(\"\\n--------------------- Per Tag summary ---------------------\\n\")\n",
        "    #print(\"\\n{:<15} {:<20} {:<20} {:<20}\".format('Tag','Precision','Recall','F1 Score'))\n",
        "    for tag in UNIVERSAL_TAGS:\n",
        "        precision[tag] = tpos.get(tag, 0)/(tpos.get(tag, 0)+fpos.get(tag, 0))\n",
        "        recall[tag] = tpos.get(tag, 0)/(tpos.get(tag, 0)+fneg.get(tag, 0))\n",
        "        f1[tag] = (2*precision[tag]*recall[tag])/(precision[tag]+recall[tag])\n",
        "        #print(\"{:<15} {:<20} {:<20} {:<20}\".format(tag, precision[tag], recall[tag], f1[tag]))\n",
        "    # overall performance summary\n",
        "    overall_accuracy = total_tpos/total_obvs\n",
        "    overall_recall = sum(recall.values())/len(UNIVERSAL_TAGS) #macro avg, bcoz micro avg is driven by majority class\n",
        "    overall_precision = sum(precision.values())/len(UNIVERSAL_TAGS) #macro avg\n",
        "    f_scores = [(1+x**2)*(overall_precision*overall_recall)/(x**2*overall_precision+overall_recall) for x in [1,0.5,2]]\n",
        "    #print(\"\\n--------------------- Overall Summary ---------------------\\n\")\n",
        "    #print(\"{:<20} {:<20} {:<20}\".format('Accuracy','Recall','Percision'))\n",
        "    #print(\"{:<20} {:<20} {:<20}\".format(overall_accuracy,overall_recall,overall_precision))\n",
        "    #print(\"\\n{:<20} {:<20} {:<20}\".format('F-1 score','F-0.5 score','F-2 score'))\n",
        "    #print(\"{:<20} {:<20} {:<20}\".format(*f_scores))\n",
        "    #print(\"\\n--------------------- Confusion Matrix ---------------------\\n\")\n",
        "    confusion_matrix = [[0 for _ in range(12)] for _ in range(12)]\n",
        "    i,j = 0,0\n",
        "    for x in UNIVERSAL_TAGS: # x is true tag\n",
        "        normal = sum([b for (a,b) in conf_dd[x].items()])\n",
        "        for y in UNIVERSAL_TAGS: # y is obtained tag\n",
        "            confusion_matrix[i][j] = conf_dd[x][y] #/normal\n",
        "            j+=1\n",
        "        i+=1\n",
        "        j=0\n",
        "    #plt.matshow(confusion_matrix, cmap='binary')\n",
        "    #plt.xlabel(\"Obtained Tag\")\n",
        "    #plt.ylabel(\"True Tag\")\n",
        "    #plt.xticks(range(len(UNIVERSAL_TAGS)), UNIVERSAL_TAGS, size='small')\n",
        "    #plt.yticks(range(len(UNIVERSAL_TAGS)), UNIVERSAL_TAGS, size='small')\n",
        "    #plt.show()\n",
        "    return (overall_accuracy,overall_recall,overall_precision,f_scores,precision,recall,f1,confusion_matrix)\n",
        "\n",
        "i = 0\n",
        "overall_accuracy,overall_recall,overall_precision,f_scores,precision,recall,f1 = 0,0,0,[0,0,0],{},{},{}\n",
        "confusion_matrix = [[0 for _ in range(12)] for _ in range(12)]\n",
        "for s in summary:\n",
        "    #print(f'For fold {i}: \\n\\n')\n",
        "    i+=1\n",
        "    overall_accuracy_tc,overall_recall_tc,overall_precision_tc,f_scores_tc,precision_tc,recall_tc,f1_tc,confusion_matrix_tc = calculate_results(s)\n",
        "    overall_accuracy += overall_accuracy_tc\n",
        "    overall_precision += overall_precision_tc\n",
        "    overall_recall += overall_recall_tc\n",
        "    for i in range(len(f_scores)):\n",
        "        f_scores[i] += f_scores_tc[i]\n",
        "    for tag in UNIVERSAL_TAGS:\n",
        "        precision[tag] = precision.get(tag,0)+precision_tc[tag]\n",
        "        recall[tag] = recall.get(tag,0)+recall_tc[tag]\n",
        "        f1[tag] = f1.get(tag,0)+f1_tc[tag]\n",
        "    for i in range(12):\n",
        "        for j in range(12):\n",
        "            confusion_matrix[i][j]+=confusion_matrix_tc[i][j]\n",
        "\n",
        "folds = len(summary)\n",
        "overall_accuracy /= folds\n",
        "overall_precision /= folds\n",
        "overall_recall /= folds\n",
        "for i in range(len(f_scores)):\n",
        "    f_scores[i] /= folds\n",
        "for tag in UNIVERSAL_TAGS:\n",
        "    precision[tag] /= folds\n",
        "    recall[tag] /= folds\n",
        "    f1[tag] /= folds\n",
        "print(\"--------------------- Overall Summary  Average ---------------------\\n\")\n",
        "print(\"{:<20} {:<20} {:<20}\".format('Accuracy','Recall','Precision'))\n",
        "print(\"{:<20} {:<20} {:<20}\".format(overall_accuracy,overall_recall,overall_precision))\n",
        "print(\"\\n{:<20} {:<20} {:<20}\".format('F-1 score','F-0.5 score','F-2 score'))\n",
        "print(\"{:<20} {:<20} {:<20}\".format(*f_scores))\n",
        "print(\"\\n--------------------- Per Tag summary ---------------------\\n\")\n",
        "print(\"\\n{:<15} {:<20} {:<20} {:<20}\".format('Tag','Precision','Recall','F1 Score'))\n",
        "for tag in UNIVERSAL_TAGS:\n",
        "    print(\"{:<15} {:<20} {:<20} {:<20}\".format(tag, precision[tag], recall[tag], f1[tag]))\n",
        "print(\"\\n--------------------- Confusion Matrix ---------------------\\n\")\n",
        "plt.matshow(confusion_matrix, cmap='binary')#, interpolation='nearest')\n",
        "plt.xlabel(\"Obtained Tag\")\n",
        "plt.ylabel(\"True Tag\")\n",
        "plt.xticks(range(len(UNIVERSAL_TAGS)), UNIVERSAL_TAGS, size='small', rotation = 45)\n",
        "plt.yticks(range(len(UNIVERSAL_TAGS)), UNIVERSAL_TAGS, size='small')\n",
        "plt.show()\n",
        "\n"
      ],
      "execution_count": null,
      "outputs": [
        {
          "output_type": "stream",
          "text": [
            "--------------------- Overall Summary  Average ---------------------\n",
            "\n",
            "Accuracy             Recall               Precision           \n",
            "0.9384238691097814   0.91446748040935     0.84265504190403    \n",
            "\n",
            "F-1 score            F-0.5 score          F-2 score           \n",
            "0.8770829426002388   0.8560943613571308   0.899134734931302   \n",
            "\n",
            "--------------------- Per Tag summary ---------------------\n",
            "\n",
            "\n",
            "Tag             Precision            Recall               F1 Score            \n",
            "VERB            0.9667373255624018   0.9478995518399934   0.9572089198820418  \n",
            "NOUN            0.9675477173653446   0.8818793672327179   0.9226904701433627  \n",
            "PRON            0.9368499367121956   0.9628774058694265   0.9496060601831721  \n",
            "ADJ             0.8901339371580137   0.9016368748921056   0.8958104862604216  \n",
            "ADV             0.8729085190584952   0.8920640647215541   0.8823551725401287  \n",
            "ADP             0.9408964435261626   0.9611735399332803   0.9509002040396586  \n",
            "CONJ            0.9471800074916151   0.9870436957551156   0.9666829188835457  \n",
            "DET             0.9705244989133481   0.9827092042732246   0.9765585924513767  \n",
            "NUM             0.7217741126657365   0.9182850327248367   0.8031071832349802  \n",
            "PRT             0.8403352051118491   0.8967572348609802   0.8675244073856634  \n",
            "X               0.0757688469112163   0.6457071161630322   0.13510955438523045 \n",
            ".               0.9812039523719829   0.9955766766459311   0.988329946441727   \n",
            "\n",
            "--------------------- Confusion Matrix ---------------------\n",
            "\n"
          ],
          "name": "stdout"
        },
        {
          "output_type": "display_data",
          "data": {
            "image/png": "[encoded data removed]",
            "text/plain": [
              "<Figure size 288x288 with 1 Axes>"
            ]
          },
          "metadata": {
            "needs_background": "light"
          }
        }
      ]
    }
  ]
}